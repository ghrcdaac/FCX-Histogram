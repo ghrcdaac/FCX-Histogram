{
 "cells": [
  {
   "cell_type": "code",
   "execution_count": 2,
   "metadata": {},
   "outputs": [],
   "source": [
    "import numpy as np\n",
    "import h5py\n",
    "import s3fs"
   ]
  },
  {
   "cell_type": "code",
   "execution_count": 3,
   "metadata": {},
   "outputs": [],
   "source": [
    "filename=\"goesrplt_CPL_ATB_L1B_17930_20170427.hdf5\"\n",
    "coord_type=\"Date\"\n",
    "data_type=\"ATB_1064\""
   ]
  },
  {
   "cell_type": "code",
   "execution_count": 4,
   "metadata": {},
   "outputs": [
    {
     "data": {
      "text/plain": [
       "'s3://fcx-raw-data-temp/CPL/data/L1B/goesrplt_CPL_ATB_L1B_17930_20170427.hdf5'"
      ]
     },
     "execution_count": 4,
     "metadata": {},
     "output_type": "execute_result"
    }
   ],
   "source": [
    "def get_file_path(filename):\n",
    "    bucket_src = \"fcx-raw-data-temp\"\n",
    "    # bucket_src = os.environ.get('SOURCE_BUCKET_NAME')\n",
    "    path_to_file=\"CPL/data/L1B\"\n",
    "    # path_to_file = os.environ.get('PATH_TO_FEGS')\n",
    "    return f\"s3://{bucket_src}/{path_to_file}/{filename}\"\n",
    "\n",
    "s3path=get_file_path(filename)\n",
    "s3path"
   ]
  },
  {
   "cell_type": "code",
   "execution_count": 5,
   "metadata": {},
   "outputs": [],
   "source": [
    "fs = s3fs.S3FileSystem(anon=False)"
   ]
  },
  {
   "cell_type": "code",
   "execution_count": 6,
   "metadata": {},
   "outputs": [
    {
     "name": "stdout",
     "output_type": "stream",
     "text": [
      "['ATB_1064', 'ATB_1064_PERP', 'ATB_355', 'ATB_532', 'Bin_Alt', 'Bin_Width', 'Cali_1064', 'Cali_1064_Err', 'Cali_355', 'Cali_355_Err', 'Cali_532', 'Cali_532_Err', 'Date', 'Dec_JDay', 'Depol_Ratio_1sec', 'End_JDay', 'Frame_Top', 'Hori_Res', 'Hour', 'Latitude', 'Longitude', 'Minute', 'Mole_Back', 'NumBins', 'NumChans', 'NumRecs', 'NumWave', 'Plane_Alt', 'Plane_Heading', 'Plane_Pitch', 'Plane_Roll', 'Pressure', 'Project', 'RH', 'Saturate', 'Second', 'Solar_Azimuth_Angle', 'Solar_Elevation_Angle', 'Start_JDay', 'Temperature']\n",
      "-----------------\n",
      "(14924,)\n",
      "(14924,)\n",
      "(14924,)\n",
      "-----------------\n",
      "(14924, 900)\n",
      "(14924, 900)\n",
      "(14924, 900)\n",
      "-----------------\n"
     ]
    }
   ],
   "source": [
    "with fs.open(s3path) as cplfile:\n",
    "    with h5py.File(cplfile, 'r') as DG: # DataGroup\n",
    "        print(list(DG.keys()))\n",
    "        print(\"-----------------\")\n",
    "        print(DG['Hour'].shape)\n",
    "        print(DG['Minute'].shape)\n",
    "        print(DG['Second'].shape)\n",
    "        print(\"-----------------\")\n",
    "        print(DG['ATB_1064'].shape)\n",
    "        print(DG['ATB_355'].shape)\n",
    "        print(DG['ATB_532'].shape)\n",
    "        print(\"-----------------\")"
   ]
  },
  {
   "cell_type": "code",
   "execution_count": 7,
   "metadata": {},
   "outputs": [
    {
     "name": "stdout",
     "output_type": "stream",
     "text": [
      "{'Hour': array([10, 10, 10, 10, 10, 10, 10, 10, 10, 10], dtype=int16), 'Minute': array([57, 57, 57, 57, 57, 57, 57, 57, 57, 57], dtype=int16), 'Second': array([48, 49, 50, 51, 52, 53, 54, 55, 56, 57], dtype=int16), 'ATB_1064': array([[ 0.00000000e+00,  0.00000000e+00,  0.00000000e+00, ...,\n",
      "         1.31028854e-04, -1.63681285e-04,  1.31227668e-04],\n",
      "       [ 0.00000000e+00,  0.00000000e+00,  0.00000000e+00, ...,\n",
      "         6.74197444e-05,  6.71766255e-05, -1.72036679e-04],\n",
      "       [ 0.00000000e+00,  0.00000000e+00,  0.00000000e+00, ...,\n",
      "         2.30236246e-04,  1.51037678e-05,  1.51451518e-05],\n",
      "       ...,\n",
      "       [ 0.00000000e+00,  0.00000000e+00,  0.00000000e+00, ...,\n",
      "         2.77456185e-04,  4.84254784e-05,  4.77775024e-05],\n",
      "       [ 0.00000000e+00,  0.00000000e+00,  0.00000000e+00, ...,\n",
      "         2.15943674e-04,  2.16955965e-04, -2.42713032e-04],\n",
      "       [ 0.00000000e+00,  0.00000000e+00,  0.00000000e+00, ...,\n",
      "         5.25732582e-05,  5.25745330e-05, -1.76745195e-04]])}\n"
     ]
    }
   ],
   "source": [
    "necessary_dataset = {}\n",
    "\n",
    "with fs.open(s3path) as cplfile:\n",
    "    with h5py.File(cplfile, 'r') as DG: # DataGroup\n",
    "        Hour_ds = DG['Hour']\n",
    "        # Hour = Hour_ds[0: Hour_ds.shape[0]]\n",
    "        Hour = Hour_ds[Hour_ds.shape[0]-10: Hour_ds.shape[0]]\n",
    "\n",
    "        Minute_ds = DG['Minute']\n",
    "        # Minute = Minute_ds[0: Minute_ds.shape[0]]\n",
    "        Minute = Minute_ds[Minute_ds.shape[0]-10: Minute_ds.shape[0]]\n",
    "\n",
    "        Second_ds = DG['Second']\n",
    "        Second = Second_ds[Second_ds.shape[0]-10: Second_ds.shape[0]]\n",
    "\n",
    "        ATB_1064_ds = DG['ATB_1064']\n",
    "        # ATB_1064 = ATB_1064_ds[0:ATB_1064_ds.shape[0]]\n",
    "        ATB_1064 = ATB_1064_ds[0:10]\n",
    "\n",
    "        necessary_dataset = {\n",
    "            \"Hour\": Hour,\n",
    "            \"Minute\": Minute,\n",
    "            \"Second\": Second,\n",
    "            \"ATB_1064\": ATB_1064}\n",
    "\n",
    "print(necessary_dataset)"
   ]
  },
  {
   "cell_type": "code",
   "execution_count": 8,
   "metadata": {},
   "outputs": [
    {
     "data": {
      "text/plain": [
       "-0.0001767451951136467"
      ]
     },
     "execution_count": 8,
     "metadata": {},
     "output_type": "execute_result"
    }
   ],
   "source": [
    "necessary_dataset['ATB_1064'][10-1][900-1]"
   ]
  },
  {
   "attachments": {},
   "cell_type": "markdown",
   "metadata": {},
   "source": [
    "Data for a given second."
   ]
  },
  {
   "cell_type": "code",
   "execution_count": 9,
   "metadata": {},
   "outputs": [
    {
     "name": "stdout",
     "output_type": "stream",
     "text": [
      "{'Hour': array([10, 10, 10, 10, 10, 10, 10, 10, 10, 10], dtype=int16), 'Minute': array([57, 57, 57, 57, 57, 57, 57, 57, 57, 57], dtype=int16), 'Second': array([48, 49, 50, 51, 52, 53, 54, 55, 56, 57], dtype=int16), 'ATB_1064': array([[ 0.00000000e+00,  0.00000000e+00,  0.00000000e+00, ...,\n",
      "         1.31028854e-04, -1.63681285e-04,  1.31227668e-04],\n",
      "       [ 0.00000000e+00,  0.00000000e+00,  0.00000000e+00, ...,\n",
      "         6.74197444e-05,  6.71766255e-05, -1.72036679e-04],\n",
      "       [ 0.00000000e+00,  0.00000000e+00,  0.00000000e+00, ...,\n",
      "         2.30236246e-04,  1.51037678e-05,  1.51451518e-05],\n",
      "       ...,\n",
      "       [ 0.00000000e+00,  0.00000000e+00,  0.00000000e+00, ...,\n",
      "         2.77456185e-04,  4.84254784e-05,  4.77775024e-05],\n",
      "       [ 0.00000000e+00,  0.00000000e+00,  0.00000000e+00, ...,\n",
      "         2.15943674e-04,  2.16955965e-04, -2.42713032e-04],\n",
      "       [ 0.00000000e+00,  0.00000000e+00,  0.00000000e+00, ...,\n",
      "         5.25732582e-05,  5.25745330e-05, -1.76745195e-04]])}\n"
     ]
    }
   ],
   "source": [
    "necessary_dataset = {}\n",
    "\n",
    "with fs.open(s3path) as cplfile:\n",
    "    with h5py.File(cplfile, 'r') as DG: # DataGroup\n",
    "        Hour_ds = DG['Hour']\n",
    "        # Hour = Hour_ds[0: Hour_ds.shape[0]]\n",
    "        Hour = Hour_ds[Hour_ds.shape[0]-10: Hour_ds.shape[0]]\n",
    "\n",
    "        Minute_ds = DG['Minute']\n",
    "        # Minute = Minute_ds[0: Minute_ds.shape[0]]\n",
    "        Minute = Minute_ds[Minute_ds.shape[0]-10: Minute_ds.shape[0]]\n",
    "\n",
    "        Second_ds = DG['Second']\n",
    "        Second = Second_ds[Second_ds.shape[0]-10: Second_ds.shape[0]]\n",
    "\n",
    "        ATB_1064_ds = DG['ATB_1064']\n",
    "        # ATB_1064 = ATB_1064_ds[0:ATB_1064_ds.shape[0]]\n",
    "        ATB_1064 = ATB_1064_ds[0:10]\n",
    "\n",
    "        necessary_dataset = {\n",
    "            \"Hour\": Hour,\n",
    "            \"Minute\": Minute,\n",
    "            \"Second\": Second,\n",
    "            \"ATB_1064\": ATB_1064}\n",
    "\n",
    "print(necessary_dataset)"
   ]
  },
  {
   "cell_type": "code",
   "execution_count": null,
   "metadata": {},
   "outputs": [],
   "source": []
  }
 ],
 "metadata": {
  "kernelspec": {
   "display_name": "itsc-fcx",
   "language": "python",
   "name": "python3"
  },
  "language_info": {
   "codemirror_mode": {
    "name": "ipython",
    "version": 3
   },
   "file_extension": ".py",
   "mimetype": "text/x-python",
   "name": "python",
   "nbconvert_exporter": "python",
   "pygments_lexer": "ipython3",
   "version": "3.9.15"
  },
  "orig_nbformat": 4,
  "vscode": {
   "interpreter": {
    "hash": "df65607ca24a7d4c45508248974a69f3c6565a1c8e3a584a3452686f5791d65e"
   }
  }
 },
 "nbformat": 4,
 "nbformat_minor": 2
}
