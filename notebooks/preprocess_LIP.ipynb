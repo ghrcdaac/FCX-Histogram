{
 "cells": [
  {
   "cell_type": "code",
   "execution_count": null,
   "metadata": {},
   "outputs": [],
   "source": [
    "# for modules exposure\n",
    "import sys\n",
    "\n",
    "sys.path.append(\"../src/\")\n",
    "\n",
    "for line in sys.path:\n",
    "     print(line)"
   ]
  },
  {
   "cell_type": "code",
   "execution_count": 30,
   "metadata": {},
   "outputs": [],
   "source": [
    "import pandas as pd\n",
    "import numpy as np\n",
    "import json"
   ]
  },
  {
   "cell_type": "code",
   "execution_count": 17,
   "metadata": {},
   "outputs": [],
   "source": [
    "# Available columns for LIP\n",
    "LIP_columns = ('Time', 'Ex', 'Ey', 'Ez', 'Eq', 'Lat', 'Lon', 'Alt', 'Roll', 'Pitch', 'Heading')\n"
   ]
  },
  {
   "cell_type": "code",
   "execution_count": 18,
   "metadata": {},
   "outputs": [],
   "source": [
    "def get_file_path(filename):\n",
    "    bucket_src = \"fcx-raw-data-temp\"\n",
    "    # bucket_src = os.environ.get('SOURCE_BUCKET_NAME')\n",
    "    path_to_file=\"LIP/data\"\n",
    "    # path_to_file = os.environ.get('PATH_TO_LIP')\n",
    "    return f\"s3://{bucket_src}/{path_to_file}/{filename}\"\n",
    "\n",
    "def validate(request_columns):\n",
    "    # validation\n",
    "    for request_column in set(request_columns):\n",
    "        if(not request_column in LIP_columns):\n",
    "            return False\n",
    "    return True"
   ]
  },
  {
   "cell_type": "code",
   "execution_count": 19,
   "metadata": {},
   "outputs": [],
   "source": [
    "filename=\"goesr_plt_lip_20170517.txt\"\n",
    "request_columns=['Time', 'Eq']\n",
    "s3path=get_file_path(filename)\n"
   ]
  },
  {
   "cell_type": "code",
   "execution_count": 20,
   "metadata": {},
   "outputs": [],
   "source": [
    "DF = pd.read_csv(s3path, sep=\", \", names=LIP_columns, index_col='Time', usecols=request_columns, engine='python')"
   ]
  },
  {
   "cell_type": "code",
   "execution_count": 21,
   "metadata": {},
   "outputs": [
    {
     "data": {
      "text/html": [
       "<div>\n",
       "<style scoped>\n",
       "    .dataframe tbody tr th:only-of-type {\n",
       "        vertical-align: middle;\n",
       "    }\n",
       "\n",
       "    .dataframe tbody tr th {\n",
       "        vertical-align: top;\n",
       "    }\n",
       "\n",
       "    .dataframe thead th {\n",
       "        text-align: right;\n",
       "    }\n",
       "</style>\n",
       "<table border=\"1\" class=\"dataframe\">\n",
       "  <thead>\n",
       "    <tr style=\"text-align: right;\">\n",
       "      <th></th>\n",
       "      <th>Eq</th>\n",
       "    </tr>\n",
       "    <tr>\n",
       "      <th>Time</th>\n",
       "      <th></th>\n",
       "    </tr>\n",
       "  </thead>\n",
       "  <tbody>\n",
       "    <tr>\n",
       "      <th>2017-05-17 01:41:00.000</th>\n",
       "      <td>NaN</td>\n",
       "    </tr>\n",
       "    <tr>\n",
       "      <th>2017-05-17 01:41:00.100</th>\n",
       "      <td>NaN</td>\n",
       "    </tr>\n",
       "    <tr>\n",
       "      <th>2017-05-17 01:41:00.200</th>\n",
       "      <td>NaN</td>\n",
       "    </tr>\n",
       "    <tr>\n",
       "      <th>2017-05-17 01:41:00.300</th>\n",
       "      <td>NaN</td>\n",
       "    </tr>\n",
       "    <tr>\n",
       "      <th>2017-05-17 01:41:00.400</th>\n",
       "      <td>NaN</td>\n",
       "    </tr>\n",
       "    <tr>\n",
       "      <th>...</th>\n",
       "      <td>...</td>\n",
       "    </tr>\n",
       "    <tr>\n",
       "      <th>2017-05-17 09:58:57.500</th>\n",
       "      <td>-0.025</td>\n",
       "    </tr>\n",
       "    <tr>\n",
       "      <th>2017-05-17 09:58:57.600</th>\n",
       "      <td>-0.025</td>\n",
       "    </tr>\n",
       "    <tr>\n",
       "      <th>2017-05-17 09:58:57.700</th>\n",
       "      <td>-0.025</td>\n",
       "    </tr>\n",
       "    <tr>\n",
       "      <th>2017-05-17 09:58:57.800</th>\n",
       "      <td>-0.025</td>\n",
       "    </tr>\n",
       "    <tr>\n",
       "      <th>2017-05-17 09:58:57.900</th>\n",
       "      <td>-0.025</td>\n",
       "    </tr>\n",
       "  </tbody>\n",
       "</table>\n",
       "<p>296980 rows × 1 columns</p>\n",
       "</div>"
      ],
      "text/plain": [
       "                            Eq\n",
       "Time                          \n",
       "2017-05-17 01:41:00.000    NaN\n",
       "2017-05-17 01:41:00.100    NaN\n",
       "2017-05-17 01:41:00.200    NaN\n",
       "2017-05-17 01:41:00.300    NaN\n",
       "2017-05-17 01:41:00.400    NaN\n",
       "...                        ...\n",
       "2017-05-17 09:58:57.500 -0.025\n",
       "2017-05-17 09:58:57.600 -0.025\n",
       "2017-05-17 09:58:57.700 -0.025\n",
       "2017-05-17 09:58:57.800 -0.025\n",
       "2017-05-17 09:58:57.900 -0.025\n",
       "\n",
       "[296980 rows x 1 columns]"
      ]
     },
     "execution_count": 21,
     "metadata": {},
     "output_type": "execute_result"
    }
   ],
   "source": [
    "DF"
   ]
  },
  {
   "cell_type": "code",
   "execution_count": 22,
   "metadata": {},
   "outputs": [
    {
     "data": {
      "text/html": [
       "<div>\n",
       "<style scoped>\n",
       "    .dataframe tbody tr th:only-of-type {\n",
       "        vertical-align: middle;\n",
       "    }\n",
       "\n",
       "    .dataframe tbody tr th {\n",
       "        vertical-align: top;\n",
       "    }\n",
       "\n",
       "    .dataframe thead th {\n",
       "        text-align: right;\n",
       "    }\n",
       "</style>\n",
       "<table border=\"1\" class=\"dataframe\">\n",
       "  <thead>\n",
       "    <tr style=\"text-align: right;\">\n",
       "      <th></th>\n",
       "      <th>Eq</th>\n",
       "    </tr>\n",
       "    <tr>\n",
       "      <th>Time</th>\n",
       "      <th></th>\n",
       "    </tr>\n",
       "  </thead>\n",
       "  <tbody>\n",
       "    <tr>\n",
       "      <th>2017-05-17 01:42:00.000</th>\n",
       "      <td>-0.012</td>\n",
       "    </tr>\n",
       "    <tr>\n",
       "      <th>2017-05-17 01:42:00.100</th>\n",
       "      <td>-0.012</td>\n",
       "    </tr>\n",
       "    <tr>\n",
       "      <th>2017-05-17 01:42:00.200</th>\n",
       "      <td>-0.012</td>\n",
       "    </tr>\n",
       "    <tr>\n",
       "      <th>2017-05-17 01:42:00.300</th>\n",
       "      <td>-0.012</td>\n",
       "    </tr>\n",
       "    <tr>\n",
       "      <th>2017-05-17 01:42:00.400</th>\n",
       "      <td>-0.012</td>\n",
       "    </tr>\n",
       "    <tr>\n",
       "      <th>...</th>\n",
       "      <td>...</td>\n",
       "    </tr>\n",
       "    <tr>\n",
       "      <th>2017-05-17 09:58:57.500</th>\n",
       "      <td>-0.025</td>\n",
       "    </tr>\n",
       "    <tr>\n",
       "      <th>2017-05-17 09:58:57.600</th>\n",
       "      <td>-0.025</td>\n",
       "    </tr>\n",
       "    <tr>\n",
       "      <th>2017-05-17 09:58:57.700</th>\n",
       "      <td>-0.025</td>\n",
       "    </tr>\n",
       "    <tr>\n",
       "      <th>2017-05-17 09:58:57.800</th>\n",
       "      <td>-0.025</td>\n",
       "    </tr>\n",
       "    <tr>\n",
       "      <th>2017-05-17 09:58:57.900</th>\n",
       "      <td>-0.025</td>\n",
       "    </tr>\n",
       "  </tbody>\n",
       "</table>\n",
       "<p>224973 rows × 1 columns</p>\n",
       "</div>"
      ],
      "text/plain": [
       "                            Eq\n",
       "Time                          \n",
       "2017-05-17 01:42:00.000 -0.012\n",
       "2017-05-17 01:42:00.100 -0.012\n",
       "2017-05-17 01:42:00.200 -0.012\n",
       "2017-05-17 01:42:00.300 -0.012\n",
       "2017-05-17 01:42:00.400 -0.012\n",
       "...                        ...\n",
       "2017-05-17 09:58:57.500 -0.025\n",
       "2017-05-17 09:58:57.600 -0.025\n",
       "2017-05-17 09:58:57.700 -0.025\n",
       "2017-05-17 09:58:57.800 -0.025\n",
       "2017-05-17 09:58:57.900 -0.025\n",
       "\n",
       "[224973 rows x 1 columns]"
      ]
     },
     "execution_count": 22,
     "metadata": {},
     "output_type": "execute_result"
    }
   ],
   "source": [
    "filtered = DF[DF['Eq'].notnull()]\n",
    "filtered"
   ]
  },
  {
   "cell_type": "code",
   "execution_count": 23,
   "metadata": {},
   "outputs": [],
   "source": [
    "k = filtered.to_json(orient='split')"
   ]
  },
  {
   "cell_type": "code",
   "execution_count": 24,
   "metadata": {},
   "outputs": [
    {
     "data": {
      "text/plain": [
       "dict_keys(['columns', 'index', 'data'])"
      ]
     },
     "execution_count": 24,
     "metadata": {},
     "output_type": "execute_result"
    }
   ],
   "source": [
    "kj = json.loads(k)\n",
    "kj.keys()"
   ]
  },
  {
   "cell_type": "code",
   "execution_count": 28,
   "metadata": {},
   "outputs": [
    {
     "name": "stdout",
     "output_type": "stream",
     "text": [
      "224973\n",
      "224973\n"
     ]
    }
   ],
   "source": [
    "print(len(kj['data']))\n",
    "print(len(kj['index']))"
   ]
  },
  {
   "cell_type": "code",
   "execution_count": 31,
   "metadata": {},
   "outputs": [],
   "source": [
    "kj['data'] = np.array(kj['data']).flatten().tolist()"
   ]
  },
  {
   "cell_type": "code",
   "execution_count": 34,
   "metadata": {},
   "outputs": [],
   "source": [
    "# import numpy as np\n",
    "# import matplotlib.pyplot as plt\n",
    "# %matplotlib inline\n",
    "# plt.plot(kj['index'], kj['data'])\n",
    "# plt.show()"
   ]
  },
  {
   "cell_type": "code",
   "execution_count": 37,
   "metadata": {},
   "outputs": [
    {
     "data": {
      "image/png": "[encoded data removed]",
      "text/plain": [
       "<Figure size 640x480 with 1 Axes>"
      ]
     },
     "metadata": {},
     "output_type": "display_data"
    }
   ],
   "source": [
    "import matplotlib.pyplot as plt\n",
    "%matplotlib inline\n",
    "plt.plot(kj['index'][0:1000], kj['data'][0:1000])\n",
    "plt.show()"
   ]
  },
  {
   "cell_type": "code",
   "execution_count": null,
   "metadata": {},
   "outputs": [],
   "source": [
    "# remove at the end of the notebook; needed for module exposure\n",
    "sys.path.remove(\"../src/\")"
   ]
  }
 ],
 "metadata": {
  "kernelspec": {
   "display_name": "Python 3.10.6 ('itsc-fcx-n')",
   "language": "python",
   "name": "python3"
  },
  "language_info": {
   "codemirror_mode": {
    "name": "ipython",
    "version": 3
   },
   "file_extension": ".py",
   "mimetype": "text/x-python",
   "name": "python",
   "nbconvert_exporter": "python",
   "pygments_lexer": "ipython3",
   "version": "3.10.6"
  },
  "orig_nbformat": 4,
  "vscode": {
   "interpreter": {
    "hash": "499a5fb3fec32ad917a576b01fa5ecfdef941a73b5948d57fad4fa0146a62e96"
   }
  }
 },
 "nbformat": 4,
 "nbformat_minor": 2
}
