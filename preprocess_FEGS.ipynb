{
 "cells": [
  {
   "cell_type": "code",
   "execution_count": 25,
   "metadata": {},
   "outputs": [
    {
     "name": "stdout",
     "output_type": "stream",
     "text": [
      "s3://fcx-raw-data-temp/FEGS/data/goesr_plt_FEGS_20170321_Flash_v2.txt\n"
     ]
    }
   ],
   "source": [
    "import pandas as pd\n",
    "\n",
    "bucket_src = \"fcx-raw-data-temp\"\n",
    "path_to_file=\"FEGS/data\"\n",
    "filename = \"goesr_plt_FEGS_20170321_Flash_v2.txt\"\n",
    "s3path=f\"s3://{bucket_src}/{path_to_file}/{filename}\"\n",
    "print(s3path)\n"
   ]
  },
  {
   "cell_type": "code",
   "execution_count": 27,
   "metadata": {},
   "outputs": [
    {
     "name": "stdout",
     "output_type": "stream",
     "text": [
      "      FlashID      peak\n",
      "0           1  0.000742\n",
      "1           2  0.000486\n",
      "2           3  0.000389\n",
      "3           4  0.001074\n",
      "4           5  0.000370\n",
      "...       ...       ...\n",
      "2284     2285  0.000462\n",
      "2285     2286  0.000495\n",
      "2286     2287  0.000540\n",
      "2287     2288  0.000720\n",
      "2288     2289  0.000323\n",
      "\n",
      "[2289 rows x 2 columns]\n"
     ]
    }
   ],
   "source": [
    "subset = pd.read_csv(s3path, sep=\",\",index_col=False,usecols=\n",
    "                  ['FlashID', 'peak'])\n",
    "print(subset)\n",
    "op = subset.to_json(orient='split', index=False)"
   ]
  },
  {
   "cell_type": "code",
   "execution_count": 35,
   "metadata": {},
   "outputs": [
    {
     "data": {
      "text/plain": [
       "2289"
      ]
     },
     "execution_count": 35,
     "metadata": {},
     "output_type": "execute_result"
    }
   ],
   "source": [
    "import json\n",
    "len(json.loads(op)['data'])"
   ]
  },
  {
   "cell_type": "code",
   "execution_count": null,
   "metadata": {},
   "outputs": [],
   "source": []
  }
 ],
 "metadata": {
  "kernelspec": {
   "display_name": "Python 3.10.6 ('itsc-fcx-n')",
   "language": "python",
   "name": "python3"
  },
  "language_info": {
   "codemirror_mode": {
    "name": "ipython",
    "version": 3
   },
   "file_extension": ".py",
   "mimetype": "text/x-python",
   "name": "python",
   "nbconvert_exporter": "python",
   "pygments_lexer": "ipython3",
   "version": "3.10.6"
  },
  "orig_nbformat": 4,
  "vscode": {
   "interpreter": {
    "hash": "499a5fb3fec32ad917a576b01fa5ecfdef941a73b5948d57fad4fa0146a62e96"
   }
  }
 },
 "nbformat": 4,
 "nbformat_minor": 2
}
